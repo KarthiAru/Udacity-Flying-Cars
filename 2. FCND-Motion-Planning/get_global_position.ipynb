{
 "cells": [
  {
   "cell_type": "code",
   "execution_count": 1,
   "id": "1ff75848-e432-4729-8643-cba41e9f1e69",
   "metadata": {},
   "outputs": [],
   "source": [
    "import matplotlib\n",
    "# Use 'TkAgg' for Tkinter based GUIs, 'Qt5Agg' for Qt5 based GUIs, etc.\n",
    "# This line needs to be executed before importing pyplot or pylab\n",
    "matplotlib.use('TkAgg')\n",
    "import matplotlib.pyplot as plt\n",
    "from mpl_toolkits.mplot3d import Axes3D\n",
    "import numpy as np\n",
    "import re\n",
    "from planning_utils import create_grid\n",
    "\n",
    "import sys\n",
    "sys.path.append(\"/Users/ka/Documents/Learning/Flying Cars and Autonomous Flight Engineer/projects/udacidrone\")\n",
    "\n",
    "from udacidrone.frame_utils import global_to_local, local_to_global"
   ]
  },
  {
   "cell_type": "code",
   "execution_count": 10,
   "id": "68375fca-6da2-47e7-a122-63d90dda904c",
   "metadata": {},
   "outputs": [],
   "source": [
    "def get_coordinates():\n",
    "\n",
    "    TARGET_ALTITUDE = 5\n",
    "    SAFETY_DISTANCE = 5\n",
    "    \n",
    "    # TODO: read lat0, lon0 from colliders into floating point values\n",
    "    header = open('colliders.csv').readline()\n",
    "    s = re.findall(r\"[-+]?\\d*\\.\\d+|\\d+\", header)\n",
    "    lat0 = float(s[1])\n",
    "    lon0 = float(s[3])\n",
    "    print(f'Home lat : {lat0}, lon : {lon0}')\n",
    "\n",
    "    # Read in obstacle map\n",
    "    data = np.loadtxt('colliders.csv', delimiter=',', dtype='float64', skiprows=2)\n",
    "    \n",
    "    # Define a grid for a particular altitude and safety margin around obstacles\n",
    "    grid, north_offset, east_offset = create_grid(data, TARGET_ALTITUDE, SAFETY_DISTANCE)\n",
    "    print(\"North offset = {0}, east offset = {1}\".format(north_offset, east_offset))\n",
    "    \n",
    "    # plot grid with start and goal point\n",
    "    fig = plt.figure(figsize=(5,6)) \n",
    "    plt.imshow(grid, origin='lower') \n",
    "\n",
    "    def onclick(event):\n",
    "        x = int(np.round(event.xdata))\n",
    "        y = int(np.round(event.ydata))\n",
    "\n",
    "        plt.plot(x, y, 'bo')\n",
    "        fig.canvas.draw()\n",
    "        grid_start = (x, y)\n",
    "        print(f\"Selected start point (local): {grid_start}\")\n",
    "        grid_start_global = local_to_global((grid_start[0] + north_offset, grid_start[1] + east_offset, TARGET_ALTITUDE), (lon0, lat0, 0))\n",
    "        print(f\"Selected start point (global): {grid_start_global}\")\n",
    "\n",
    "        return \n",
    "\n",
    "    cid = plt.gcf().canvas.mpl_connect('button_press_event', onclick)\n",
    "    plt.xlabel('EAST')\n",
    "    plt.ylabel('NORTH')\n",
    "    plt.show()\n",
    "   "
   ]
  },
  {
   "cell_type": "code",
   "execution_count": 11,
   "id": "d58eb977-2ec1-486d-97d9-0a55d4b6be84",
   "metadata": {},
   "outputs": [
    {
     "name": "stdout",
     "output_type": "stream",
     "text": [
      "Home lat : 37.79248, lon : -122.39745\n",
      "North offset = -316, east offset = -445\n",
      "Selected start point (local): (459, 346)\n",
      "Selected start point (global): [-122.39856393   37.79377456   -5.        ]\n",
      "Selected start point (local): (174, 42)\n",
      "Selected start point (global): [-122.40203731   37.79122351   -5.        ]\n",
      "Selected start point (local): (34, 398)\n",
      "Selected start point (global): [-122.39800441   37.78994114   -5.        ]\n",
      "Selected start point (local): (906, 427)\n",
      "Selected start point (global): [-122.39761126   37.79779855   -5.        ]\n"
     ]
    }
   ],
   "source": [
    "get_coordinates()"
   ]
  },
  {
   "cell_type": "code",
   "execution_count": null,
   "id": "826e2741-30b4-4412-aed0-3c551ede8eff",
   "metadata": {},
   "outputs": [],
   "source": []
  }
 ],
 "metadata": {
  "kernelspec": {
   "display_name": "Python 3 (ipykernel)",
   "language": "python",
   "name": "python3"
  },
  "language_info": {
   "codemirror_mode": {
    "name": "ipython",
    "version": 3
   },
   "file_extension": ".py",
   "mimetype": "text/x-python",
   "name": "python",
   "nbconvert_exporter": "python",
   "pygments_lexer": "ipython3",
   "version": "3.11.7"
  }
 },
 "nbformat": 4,
 "nbformat_minor": 5
}
